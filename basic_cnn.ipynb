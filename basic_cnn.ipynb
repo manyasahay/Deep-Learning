{
  "nbformat": 4,
  "nbformat_minor": 0,
  "metadata": {
    "colab": {
      "provenance": [],
      "gpuType": "T4"
    },
    "kernelspec": {
      "name": "python3",
      "display_name": "Python 3"
    },
    "language_info": {
      "name": "python"
    },
    "accelerator": "GPU"
  },
  "cells": [
    {
      "cell_type": "code",
      "source": [
        "import tensorflow as tf\n",
        "import numpy as np\n",
        "import matplotlib.pyplot as plt\n",
        "from keras import Sequential\n",
        "from keras.layers import Conv2D,Dense,Flatten,Input,MaxPooling2D,AveragePooling2D\n",
        "from keras.models import Model\n",
        "from sklearn.preprocessing import OneHotEncoder"
      ],
      "metadata": {
        "id": "I_Ia-_DsTTx_"
      },
      "execution_count": null,
      "outputs": []
    },
    {
      "cell_type": "code",
      "execution_count": null,
      "metadata": {
        "colab": {
          "base_uri": "https://localhost:8080/"
        },
        "id": "CAbeFA8-SkHG",
        "outputId": "52acd324-8fcd-47b7-cc9d-b0a468ceb6c2"
      },
      "outputs": [
        {
          "output_type": "stream",
          "name": "stdout",
          "text": [
            "Downloading data from https://storage.googleapis.com/tensorflow/tf-keras-datasets/mnist.npz\n",
            "11490434/11490434 [==============================] - 0s 0us/step\n"
          ]
        }
      ],
      "source": [
        "mnist = tf.keras.datasets.mnist\n",
        "(X_train,y_train),(X_test,y_test) = mnist.load_data()"
      ]
    },
    {
      "cell_type": "code",
      "source": [
        "X_train.shape"
      ],
      "metadata": {
        "colab": {
          "base_uri": "https://localhost:8080/"
        },
        "id": "1Xmca44SUZQx",
        "outputId": "90205bf0-4d39-459c-e365-2064bcc89bf6"
      },
      "execution_count": null,
      "outputs": [
        {
          "output_type": "execute_result",
          "data": {
            "text/plain": [
              "(60000, 28, 28)"
            ]
          },
          "metadata": {},
          "execution_count": 3
        }
      ]
    },
    {
      "cell_type": "markdown",
      "source": [
        "6000 images, 28x28 size\n"
      ],
      "metadata": {
        "id": "CkdmX3SWUdj2"
      }
    },
    {
      "cell_type": "code",
      "source": [
        "y_train.shape"
      ],
      "metadata": {
        "colab": {
          "base_uri": "https://localhost:8080/"
        },
        "id": "qqA8Bx64Ubrm",
        "outputId": "c1a59168-223e-4269-ae85-96089d6101dc"
      },
      "execution_count": null,
      "outputs": [
        {
          "output_type": "execute_result",
          "data": {
            "text/plain": [
              "(60000,)"
            ]
          },
          "metadata": {},
          "execution_count": 4
        }
      ]
    },
    {
      "cell_type": "code",
      "source": [
        "#scaling\n",
        "X_train = X_train/255.0\n",
        "X_test = X_test/255.0\n"
      ],
      "metadata": {
        "id": "zd5AR3UjUiR4"
      },
      "execution_count": null,
      "outputs": []
    },
    {
      "cell_type": "code",
      "source": [
        "#encoding target variable\n",
        "oe = OneHotEncoder(sparse=False)\n",
        "y_train = oe.fit_transform(y_train.reshape(-1,1))\n",
        "y_test = oe.transform(y_test.reshape(-1,1))"
      ],
      "metadata": {
        "colab": {
          "base_uri": "https://localhost:8080/"
        },
        "id": "fFRnsU6FUts-",
        "outputId": "a0df0afb-91b4-4433-8f2d-6f8faf4b6737"
      },
      "execution_count": null,
      "outputs": [
        {
          "output_type": "stream",
          "name": "stderr",
          "text": [
            "/usr/local/lib/python3.10/dist-packages/sklearn/preprocessing/_encoders.py:868: FutureWarning: `sparse` was renamed to `sparse_output` in version 1.2 and will be removed in 1.4. `sparse_output` is ignored unless you leave `sparse` to its default value.\n",
            "  warnings.warn(\n"
          ]
        }
      ]
    },
    {
      "cell_type": "code",
      "source": [
        "y_train[0]"
      ],
      "metadata": {
        "colab": {
          "base_uri": "https://localhost:8080/"
        },
        "id": "hu44Mq1UVCLI",
        "outputId": "41ce9a1d-4d06-4a67-f6d1-6748dd94b189"
      },
      "execution_count": null,
      "outputs": [
        {
          "output_type": "execute_result",
          "data": {
            "text/plain": [
              "array([0., 0., 0., 0., 0., 1., 0., 0., 0., 0.])"
            ]
          },
          "metadata": {},
          "execution_count": 7
        }
      ]
    },
    {
      "cell_type": "code",
      "source": [
        "#reshaping the dataset building the input vector\n",
        "X_train = X_train.reshape(X_train.shape[0],28,28,1)\n",
        "X_test = X_test.reshape(X_test.shape[0],28,28,1)\n",
        "#1 is for 1 image at a time"
      ],
      "metadata": {
        "id": "RuZLQ0_mVOtP"
      },
      "execution_count": null,
      "outputs": []
    },
    {
      "cell_type": "code",
      "source": [
        "X_train.shape"
      ],
      "metadata": {
        "colab": {
          "base_uri": "https://localhost:8080/"
        },
        "id": "bxtupmaFVn55",
        "outputId": "a5a70f8b-1e81-4b4c-de28-772d81284941"
      },
      "execution_count": null,
      "outputs": [
        {
          "output_type": "execute_result",
          "data": {
            "text/plain": [
              "(60000, 28, 28, 1)"
            ]
          },
          "metadata": {},
          "execution_count": 9
        }
      ]
    },
    {
      "cell_type": "code",
      "source": [
        "inputs = Input(shape=(28,28,1))\n",
        "x = Conv2D(filters=64,kernel_size=3,activation='relu')(inputs)\n",
        "x = MaxPooling2D()(x)\n",
        "x = Conv2D(filters=128,kernel_size=5,activation='relu')(x)\n",
        "x=MaxPooling2D()(x)\n",
        "x = Conv2D(filters=32,kernel_size=3,activation='relu')(x)\n",
        "x=MaxPooling2D()(x)\n",
        "x=Flatten()(x)\n",
        "outputs = Dense(10,activation='softmax')(x)\n",
        "model1=Model(inputs=inputs,outputs=outputs)"
      ],
      "metadata": {
        "id": "jSQ-gUakVtK_"
      },
      "execution_count": null,
      "outputs": []
    },
    {
      "cell_type": "code",
      "source": [
        "model1.summary()"
      ],
      "metadata": {
        "id": "OVbN_dpZXONZ",
        "colab": {
          "base_uri": "https://localhost:8080/"
        },
        "outputId": "9c71939a-3428-4bec-801a-8916e1a5646c"
      },
      "execution_count": null,
      "outputs": [
        {
          "output_type": "stream",
          "name": "stdout",
          "text": [
            "Model: \"model\"\n",
            "_________________________________________________________________\n",
            " Layer (type)                Output Shape              Param #   \n",
            "=================================================================\n",
            " input_1 (InputLayer)        [(None, 28, 28, 1)]       0         \n",
            "                                                                 \n",
            " conv2d (Conv2D)             (None, 26, 26, 64)        640       \n",
            "                                                                 \n",
            " max_pooling2d (MaxPooling2  (None, 13, 13, 64)        0         \n",
            " D)                                                              \n",
            "                                                                 \n",
            " conv2d_1 (Conv2D)           (None, 9, 9, 128)         204928    \n",
            "                                                                 \n",
            " max_pooling2d_1 (MaxPoolin  (None, 4, 4, 128)         0         \n",
            " g2D)                                                            \n",
            "                                                                 \n",
            " conv2d_2 (Conv2D)           (None, 2, 2, 32)          36896     \n",
            "                                                                 \n",
            " max_pooling2d_2 (MaxPoolin  (None, 1, 1, 32)          0         \n",
            " g2D)                                                            \n",
            "                                                                 \n",
            " flatten (Flatten)           (None, 32)                0         \n",
            "                                                                 \n",
            " dense (Dense)               (None, 10)                330       \n",
            "                                                                 \n",
            "=================================================================\n",
            "Total params: 242794 (948.41 KB)\n",
            "Trainable params: 242794 (948.41 KB)\n",
            "Non-trainable params: 0 (0.00 Byte)\n",
            "_________________________________________________________________\n"
          ]
        }
      ]
    },
    {
      "cell_type": "code",
      "source": [
        "model1.compile(loss='categorical_crossentropy', optimizer='adam',metrics=['accuracy'])\n",
        "history = model1.fit(X_train,y_train,validation_data=(X_test,y_test),epochs=5,batch_size=2056)"
      ],
      "metadata": {
        "colab": {
          "base_uri": "https://localhost:8080/"
        },
        "id": "imng1TMnYbD4",
        "outputId": "d4019767-1433-43f3-99b3-3b86ec8242ef"
      },
      "execution_count": null,
      "outputs": [
        {
          "output_type": "stream",
          "name": "stdout",
          "text": [
            "Epoch 1/5\n",
            "30/30 [==============================] - 23s 138ms/step - loss: 1.1035 - accuracy: 0.7132 - val_loss: 0.3248 - val_accuracy: 0.8989\n",
            "Epoch 2/5\n",
            "30/30 [==============================] - 2s 83ms/step - loss: 0.2571 - accuracy: 0.9230 - val_loss: 0.1764 - val_accuracy: 0.9447\n",
            "Epoch 3/5\n",
            "30/30 [==============================] - 2s 82ms/step - loss: 0.1595 - accuracy: 0.9528 - val_loss: 0.1256 - val_accuracy: 0.9599\n",
            "Epoch 4/5\n",
            "30/30 [==============================] - 3s 89ms/step - loss: 0.1283 - accuracy: 0.9626 - val_loss: 0.0984 - val_accuracy: 0.9686\n",
            "Epoch 5/5\n",
            "30/30 [==============================] - 3s 87ms/step - loss: 0.0996 - accuracy: 0.9707 - val_loss: 0.0884 - val_accuracy: 0.9734\n"
          ]
        }
      ]
    },
    {
      "cell_type": "code",
      "source": [
        "i=1\n",
        "plt.figure(figsize=(10,10))\n",
        "plt.subplot(2,2,i)\n",
        "plt.tight_layout()\n",
        "plt.plot(history.history['accuracy'],'r',label='train')\n",
        "plt.plot(history.history['val_accuracy'],'b',label='val')\n",
        "plt.xlabel(r'Epoch',fontsize=10)\n",
        "plt.ylabel(r'Epoch',fontsize=10)\n",
        "plt.legend()\n",
        "plt.tick_params(labelsize=20)"
      ],
      "metadata": {
        "colab": {
          "base_uri": "https://localhost:8080/",
          "height": 557
        },
        "id": "oxOOjh3FY-8A",
        "outputId": "8189be76-f924-4c48-98df-d0987ed3436d"
      },
      "execution_count": null,
      "outputs": [
        {
          "output_type": "display_data",
          "data": {
            "text/plain": [
              "<Figure size 1000x1000 with 1 Axes>"
            ],
            "image/png": "[encoded data removed]"
          },
          "metadata": {}
        }
      ]
    },
    {
      "cell_type": "code",
      "source": [],
      "metadata": {
        "id": "BOz0CLz-awFE"
      },
      "execution_count": null,
      "outputs": []
    }
  ]
}