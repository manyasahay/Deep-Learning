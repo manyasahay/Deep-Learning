{
  "nbformat": 4,
  "nbformat_minor": 0,
  "metadata": {
    "colab": {
      "provenance": []
    },
    "kernelspec": {
      "name": "python3",
      "display_name": "Python 3"
    },
    "language_info": {
      "name": "python"
    }
  },
  "cells": [
    {
      "cell_type": "code",
      "execution_count": null,
      "metadata": {
        "colab": {
          "base_uri": "https://localhost:8080/"
        },
        "id": "862QAk2Bhdau",
        "outputId": "a5f21191-fad5-4439-abcd-d1907f9b1dd4"
      },
      "outputs": [
        {
          "output_type": "stream",
          "name": "stdout",
          "text": [
            "Downloading data from https://storage.googleapis.com/tensorflow/tf-keras-datasets/train-labels-idx1-ubyte.gz\n",
            "29515/29515 [==============================] - 0s 0us/step\n",
            "Downloading data from https://storage.googleapis.com/tensorflow/tf-keras-datasets/train-images-idx3-ubyte.gz\n",
            "26421880/26421880 [==============================] - 0s 0us/step\n",
            "Downloading data from https://storage.googleapis.com/tensorflow/tf-keras-datasets/t10k-labels-idx1-ubyte.gz\n",
            "5148/5148 [==============================] - 0s 0us/step\n",
            "Downloading data from https://storage.googleapis.com/tensorflow/tf-keras-datasets/t10k-images-idx3-ubyte.gz\n",
            "4422102/4422102 [==============================] - 0s 0us/step\n"
          ]
        }
      ],
      "source": [
        "from keras.datasets import fashion_mnist\n",
        "# Load the Fashion MNIST dataset\n",
        "(train_images, train_labels),(test_images, test_labels)=fashion_mnist.load_data()"
      ]
    },
    {
      "cell_type": "code",
      "source": [
        "import numpy as np\n",
        "from keras.utils import to_categorical\n",
        "from sklearn.model_selection import train_test_split\n",
        "\n",
        "num_samples, img_height, img_width = train_images.shape\n",
        "num_classes = len(np.unique(train_labels))\n",
        "\n",
        "print(\"Number of training samples:\", num_samples)\n",
        "print(\"Image dimensions:\", img_height, \"x\", img_width)\n",
        "print(\"Number of classes:\", num_classes)"
      ],
      "metadata": {
        "colab": {
          "base_uri": "https://localhost:8080/"
        },
        "id": "ta6vB9I1kEjr",
        "outputId": "8de404c5-57c4-4ff6-9498-24ffdc5ff032"
      },
      "execution_count": null,
      "outputs": [
        {
          "output_type": "stream",
          "name": "stdout",
          "text": [
            "Number of training samples: 60000\n",
            "Image dimensions: 28 x 28\n",
            "Number of classes: 10\n"
          ]
        }
      ]
    },
    {
      "cell_type": "code",
      "source": [
        "#normalise\n",
        "train_images = train_images.astype('float32') / 255.0\n",
        "test_images = test_images.astype('float32') / 255.0\n",
        "#flatten\n",
        "train_images = train_images.reshape((-1, img_height * img_width))\n",
        "test_images = test_images.reshape((-1, img_height * img_width))\n",
        "#split\n",
        "train_images, val_images, train_labels, val_labels = train_test_split(\n",
        "    train_images, train_labels, test_size=0.2, random_state=42)\n",
        "#one-hot encoding\n",
        "train_labels = to_categorical(train_labels, num_classes)\n",
        "val_labels = to_categorical(val_labels, num_classes)\n",
        "test_labels = to_categorical(test_labels, num_classes)"
      ],
      "metadata": {
        "id": "XHd5jrq4kWgf"
      },
      "execution_count": null,
      "outputs": []
    },
    {
      "cell_type": "code",
      "source": [
        "from keras.models import Sequential\n",
        "from keras.layers import Dense, Flatten, Dropout\n",
        "from keras.regularizers import l2\n",
        "from keras.optimizers import Adam\n",
        "\n",
        "model = Sequential()\n",
        "model.add(Dense(128, activation='relu', input_shape=(28 * 28,), kernel_regularizer=l2(0.001)))\n",
        "model.add(Dense(64, activation='relu', kernel_regularizer=l2(0.001)))\n",
        "model.add(Dense(32, activation='relu', kernel_regularizer=l2(0.001)))\n",
        "model.add(Dense(32, activation='relu', kernel_regularizer=l2(0.001)))\n",
        "model.add(Dense(num_classes, activation='softmax'))\n",
        "#droput\n",
        "model.add(Dropout(0.5))\n",
        "model.add(Dropout(0.5))"
      ],
      "metadata": {
        "id": "OGGNONpykkLh"
      },
      "execution_count": null,
      "outputs": []
    },
    {
      "cell_type": "code",
      "source": [
        "#compile\n",
        "model.compile(optimizer='adam', loss='categorical_crossentropy', metrics=['accuracy'])\n",
        "#train\n",
        "history = model.fit(train_images, train_labels, epochs=20, batch_size=64, validation_data=(val_images, val_labels))"
      ],
      "metadata": {
        "colab": {
          "base_uri": "https://localhost:8080/"
        },
        "id": "1UJNoev0lY93",
        "outputId": "c03f2873-6a17-4ca1-aace-dd53e4f0a8c3"
      },
      "execution_count": null,
      "outputs": [
        {
          "output_type": "stream",
          "name": "stdout",
          "text": [
            "Epoch 1/20\n",
            "750/750 [==============================] - 5s 5ms/step - loss: nan - accuracy: 0.2338 - val_loss: 0.6653 - val_accuracy: 0.7757\n",
            "Epoch 2/20\n",
            "750/750 [==============================] - 3s 3ms/step - loss: nan - accuracy: 0.2344 - val_loss: 0.6810 - val_accuracy: 0.7621\n",
            "Epoch 3/20\n",
            "750/750 [==============================] - 3s 3ms/step - loss: nan - accuracy: 0.2377 - val_loss: 0.7288 - val_accuracy: 0.7335\n",
            "Epoch 4/20\n",
            "750/750 [==============================] - 3s 4ms/step - loss: nan - accuracy: 0.2369 - val_loss: 0.6107 - val_accuracy: 0.7877\n",
            "Epoch 5/20\n",
            "750/750 [==============================] - 3s 4ms/step - loss: nan - accuracy: 0.2349 - val_loss: 0.6032 - val_accuracy: 0.7919\n",
            "Epoch 6/20\n",
            "750/750 [==============================] - 3s 3ms/step - loss: nan - accuracy: 0.2352 - val_loss: 0.7061 - val_accuracy: 0.7371\n",
            "Epoch 7/20\n",
            "750/750 [==============================] - 3s 4ms/step - loss: nan - accuracy: 0.2364 - val_loss: 0.6608 - val_accuracy: 0.7699\n",
            "Epoch 8/20\n",
            "750/750 [==============================] - 3s 3ms/step - loss: nan - accuracy: 0.2330 - val_loss: 0.6502 - val_accuracy: 0.7701\n",
            "Epoch 9/20\n",
            "750/750 [==============================] - 3s 4ms/step - loss: nan - accuracy: 0.2384 - val_loss: 0.6136 - val_accuracy: 0.7858\n",
            "Epoch 10/20\n",
            "750/750 [==============================] - 3s 4ms/step - loss: nan - accuracy: 0.2348 - val_loss: 0.6098 - val_accuracy: 0.7866\n",
            "Epoch 11/20\n",
            "750/750 [==============================] - 3s 3ms/step - loss: nan - accuracy: 0.2365 - val_loss: 0.5809 - val_accuracy: 0.7968\n",
            "Epoch 12/20\n",
            "750/750 [==============================] - 3s 3ms/step - loss: nan - accuracy: 0.2380 - val_loss: 0.5965 - val_accuracy: 0.7881\n",
            "Epoch 13/20\n",
            "750/750 [==============================] - 3s 4ms/step - loss: nan - accuracy: 0.2373 - val_loss: 0.6097 - val_accuracy: 0.7853\n",
            "Epoch 14/20\n",
            "750/750 [==============================] - 3s 4ms/step - loss: nan - accuracy: 0.2366 - val_loss: 0.6090 - val_accuracy: 0.7765\n",
            "Epoch 15/20\n",
            "750/750 [==============================] - 3s 3ms/step - loss: nan - accuracy: 0.2365 - val_loss: 0.5964 - val_accuracy: 0.7913\n",
            "Epoch 16/20\n",
            "750/750 [==============================] - 3s 4ms/step - loss: nan - accuracy: 0.2367 - val_loss: 0.5783 - val_accuracy: 0.8000\n",
            "Epoch 17/20\n",
            "750/750 [==============================] - 3s 4ms/step - loss: nan - accuracy: 0.2431 - val_loss: 0.5886 - val_accuracy: 0.7954\n",
            "Epoch 18/20\n",
            "750/750 [==============================] - 3s 4ms/step - loss: nan - accuracy: 0.2390 - val_loss: 0.7290 - val_accuracy: 0.7520\n",
            "Epoch 19/20\n",
            "750/750 [==============================] - 3s 3ms/step - loss: nan - accuracy: 0.2356 - val_loss: 0.6158 - val_accuracy: 0.7747\n",
            "Epoch 20/20\n",
            "750/750 [==============================] - 3s 3ms/step - loss: nan - accuracy: 0.2349 - val_loss: 0.6808 - val_accuracy: 0.7533\n"
          ]
        }
      ]
    },
    {
      "cell_type": "code",
      "source": [
        "test_loss, test_acc = model.evaluate(test_images, test_labels)\n",
        "print(\"Test accuracy:\", test_acc)"
      ],
      "metadata": {
        "colab": {
          "base_uri": "https://localhost:8080/"
        },
        "id": "bvj42zl0mSKp",
        "outputId": "f410f50e-3aad-4e35-92fe-64383b024532"
      },
      "execution_count": null,
      "outputs": [
        {
          "output_type": "stream",
          "name": "stdout",
          "text": [
            "313/313 [==============================] - 0s 1ms/step - loss: 0.6956 - accuracy: 0.7477\n",
            "Test accuracy: 0.7476999759674072\n"
          ]
        }
      ]
    },
    {
      "cell_type": "code",
      "source": [
        "import numpy as np"
      ],
      "metadata": {
        "id": "4zZzTHNNtoKz"
      },
      "execution_count": null,
      "outputs": []
    },
    {
      "cell_type": "code",
      "source": [
        "from keras.optimizers import SGD\n",
        "#SGD model\n",
        "model_sgd = Sequential()\n",
        "model_sgd.add(Dense(128, activation='relu', input_shape=(28 * 28,), kernel_regularizer=l2(0.001)))\n",
        "model_sgd.add(Dense(64, activation='relu', kernel_regularizer=l2(0.001)))\n",
        "model_sgd.add(Dense(num_classes, activation='softmax'))\n",
        "\n",
        "model_sgd.compile(optimizer=SGD(lr=0.01), loss='categorical_crossentropy', metrics=['accuracy'])\n",
        "history_sgd = model_sgd.fit(train_images, train_labels, epochs=20, batch_size=64, validation_data=(val_images, val_labels))\n",
        "\n",
        "#test\n",
        "test_loss_sgd, test_acc_sgd = model_sgd.evaluate(test_images, test_labels)\n",
        "print(\"SGD Test accuracy:\", test_acc_sgd)"
      ],
      "metadata": {
        "colab": {
          "base_uri": "https://localhost:8080/"
        },
        "id": "9fxftxIEoeqs",
        "outputId": "671876e9-5752-4a02-a145-564526014056"
      },
      "execution_count": null,
      "outputs": [
        {
          "output_type": "stream",
          "name": "stderr",
          "text": [
            "WARNING:absl:`lr` is deprecated in Keras optimizer, please use `learning_rate` or use the legacy optimizer, e.g.,tf.keras.optimizers.legacy.SGD.\n"
          ]
        },
        {
          "output_type": "stream",
          "name": "stdout",
          "text": [
            "Epoch 1/20\n",
            "750/750 [==============================] - 3s 3ms/step - loss: 1.2973 - accuracy: 0.6810 - val_loss: 0.9798 - val_accuracy: 0.7640\n",
            "Epoch 2/20\n",
            "750/750 [==============================] - 2s 3ms/step - loss: 0.9040 - accuracy: 0.7979 - val_loss: 0.8647 - val_accuracy: 0.8092\n",
            "Epoch 3/20\n",
            "750/750 [==============================] - 2s 3ms/step - loss: 0.8249 - accuracy: 0.8196 - val_loss: 0.8224 - val_accuracy: 0.8175\n",
            "Epoch 4/20\n",
            "750/750 [==============================] - 2s 2ms/step - loss: 0.7838 - accuracy: 0.8310 - val_loss: 0.7702 - val_accuracy: 0.8339\n",
            "Epoch 5/20\n",
            "750/750 [==============================] - 2s 2ms/step - loss: 0.7542 - accuracy: 0.8378 - val_loss: 0.7745 - val_accuracy: 0.8281\n",
            "Epoch 6/20\n",
            "750/750 [==============================] - 2s 2ms/step - loss: 0.7319 - accuracy: 0.8436 - val_loss: 0.7334 - val_accuracy: 0.8387\n",
            "Epoch 7/20\n",
            "750/750 [==============================] - 2s 3ms/step - loss: 0.7104 - accuracy: 0.8497 - val_loss: 0.7205 - val_accuracy: 0.8429\n",
            "Epoch 8/20\n",
            "750/750 [==============================] - 2s 2ms/step - loss: 0.6940 - accuracy: 0.8522 - val_loss: 0.6944 - val_accuracy: 0.8505\n",
            "Epoch 9/20\n",
            "750/750 [==============================] - 2s 2ms/step - loss: 0.6793 - accuracy: 0.8544 - val_loss: 0.6875 - val_accuracy: 0.8489\n",
            "Epoch 10/20\n",
            "750/750 [==============================] - 2s 3ms/step - loss: 0.6664 - accuracy: 0.8572 - val_loss: 0.6685 - val_accuracy: 0.8547\n",
            "Epoch 11/20\n",
            "750/750 [==============================] - 2s 3ms/step - loss: 0.6531 - accuracy: 0.8608 - val_loss: 0.6567 - val_accuracy: 0.8561\n",
            "Epoch 12/20\n",
            "750/750 [==============================] - 2s 3ms/step - loss: 0.6395 - accuracy: 0.8628 - val_loss: 0.6463 - val_accuracy: 0.8589\n",
            "Epoch 13/20\n",
            "750/750 [==============================] - 2s 3ms/step - loss: 0.6290 - accuracy: 0.8652 - val_loss: 0.6364 - val_accuracy: 0.8597\n",
            "Epoch 14/20\n",
            "750/750 [==============================] - 2s 2ms/step - loss: 0.6176 - accuracy: 0.8682 - val_loss: 0.6351 - val_accuracy: 0.8580\n",
            "Epoch 15/20\n",
            "750/750 [==============================] - 2s 3ms/step - loss: 0.6081 - accuracy: 0.8686 - val_loss: 0.6286 - val_accuracy: 0.8595\n",
            "Epoch 16/20\n",
            "750/750 [==============================] - 2s 3ms/step - loss: 0.5980 - accuracy: 0.8705 - val_loss: 0.6160 - val_accuracy: 0.8623\n",
            "Epoch 17/20\n",
            "750/750 [==============================] - 2s 2ms/step - loss: 0.5880 - accuracy: 0.8719 - val_loss: 0.6112 - val_accuracy: 0.8609\n",
            "Epoch 18/20\n",
            "750/750 [==============================] - 3s 4ms/step - loss: 0.5790 - accuracy: 0.8738 - val_loss: 0.6030 - val_accuracy: 0.8647\n",
            "Epoch 19/20\n",
            "750/750 [==============================] - 2s 3ms/step - loss: 0.5703 - accuracy: 0.8749 - val_loss: 0.5980 - val_accuracy: 0.8633\n",
            "Epoch 20/20\n",
            "750/750 [==============================] - 3s 3ms/step - loss: 0.5630 - accuracy: 0.8748 - val_loss: 0.5784 - val_accuracy: 0.8673\n",
            "313/313 [==============================] - 0s 1ms/step - loss: 0.6035 - accuracy: 0.8586\n",
            "SGD Test accuracy: 0.8586000204086304\n"
          ]
        }
      ]
    },
    {
      "cell_type": "code",
      "source": [
        "from keras.optimizers import Adagrad\n",
        "#adagrad\n",
        "model_adagrad = Sequential()\n",
        "model_adagrad.add(Dense(128, activation='relu', input_shape=(28 * 28,), kernel_regularizer=l2(0.001)))\n",
        "model_adagrad.add(Dense(64, activation='relu', kernel_regularizer=l2(0.001)))\n",
        "model_adagrad.add(Dense(num_classes, activation='softmax'))\n",
        "\n",
        "model_adagrad.compile(optimizer=Adagrad(), loss='categorical_crossentropy', metrics=['accuracy'])\n",
        "history_adagrad = model_adagrad.fit(train_images, train_labels, epochs=20, batch_size=64, validation_data=(val_images, val_labels))\n",
        "#test\n",
        "test_loss_adagrad, test_acc_adagrad = model_adagrad.evaluate(test_images, test_labels)\n",
        "print(\"Adagrad Test accuracy:\", test_acc_adagrad)"
      ],
      "metadata": {
        "colab": {
          "base_uri": "https://localhost:8080/"
        },
        "id": "P9tjRV7ho0g0",
        "outputId": "7b9dce17-029c-455f-8990-e49de3c3b37f"
      },
      "execution_count": null,
      "outputs": [
        {
          "output_type": "stream",
          "name": "stdout",
          "text": [
            "Epoch 1/20\n",
            "750/750 [==============================] - 3s 3ms/step - loss: 1.7015 - accuracy: 0.5927 - val_loss: 1.3140 - val_accuracy: 0.6804\n",
            "Epoch 2/20\n",
            "750/750 [==============================] - 2s 3ms/step - loss: 1.1831 - accuracy: 0.7123 - val_loss: 1.1182 - val_accuracy: 0.7289\n",
            "Epoch 3/20\n",
            "750/750 [==============================] - 2s 3ms/step - loss: 1.0573 - accuracy: 0.7534 - val_loss: 1.0340 - val_accuracy: 0.7577\n",
            "Epoch 4/20\n",
            "750/750 [==============================] - 3s 3ms/step - loss: 0.9914 - accuracy: 0.7774 - val_loss: 0.9821 - val_accuracy: 0.7772\n",
            "Epoch 5/20\n",
            "750/750 [==============================] - 2s 3ms/step - loss: 0.9483 - accuracy: 0.7908 - val_loss: 0.9454 - val_accuracy: 0.7888\n",
            "Epoch 6/20\n",
            "750/750 [==============================] - 2s 3ms/step - loss: 0.9175 - accuracy: 0.8012 - val_loss: 0.9193 - val_accuracy: 0.7961\n",
            "Epoch 7/20\n",
            "750/750 [==============================] - 2s 3ms/step - loss: 0.8936 - accuracy: 0.8073 - val_loss: 0.8985 - val_accuracy: 0.8041\n",
            "Epoch 8/20\n",
            "750/750 [==============================] - 2s 3ms/step - loss: 0.8745 - accuracy: 0.8114 - val_loss: 0.8805 - val_accuracy: 0.8060\n",
            "Epoch 9/20\n",
            "750/750 [==============================] - 2s 3ms/step - loss: 0.8586 - accuracy: 0.8161 - val_loss: 0.8657 - val_accuracy: 0.8090\n",
            "Epoch 10/20\n",
            "750/750 [==============================] - 2s 3ms/step - loss: 0.8452 - accuracy: 0.8194 - val_loss: 0.8534 - val_accuracy: 0.8138\n",
            "Epoch 11/20\n",
            "750/750 [==============================] - 2s 3ms/step - loss: 0.8335 - accuracy: 0.8217 - val_loss: 0.8425 - val_accuracy: 0.8173\n",
            "Epoch 12/20\n",
            "750/750 [==============================] - 2s 3ms/step - loss: 0.8233 - accuracy: 0.8245 - val_loss: 0.8334 - val_accuracy: 0.8178\n",
            "Epoch 13/20\n",
            "750/750 [==============================] - 2s 3ms/step - loss: 0.8144 - accuracy: 0.8265 - val_loss: 0.8245 - val_accuracy: 0.8202\n",
            "Epoch 14/20\n",
            "750/750 [==============================] - 2s 3ms/step - loss: 0.8063 - accuracy: 0.8286 - val_loss: 0.8161 - val_accuracy: 0.8233\n",
            "Epoch 15/20\n",
            "750/750 [==============================] - 3s 4ms/step - loss: 0.7988 - accuracy: 0.8310 - val_loss: 0.8091 - val_accuracy: 0.8242\n",
            "Epoch 16/20\n",
            "750/750 [==============================] - 2s 3ms/step - loss: 0.7921 - accuracy: 0.8320 - val_loss: 0.8025 - val_accuracy: 0.8271\n",
            "Epoch 17/20\n",
            "750/750 [==============================] - 2s 3ms/step - loss: 0.7858 - accuracy: 0.8339 - val_loss: 0.7965 - val_accuracy: 0.8276\n",
            "Epoch 18/20\n",
            "750/750 [==============================] - 2s 3ms/step - loss: 0.7801 - accuracy: 0.8350 - val_loss: 0.7915 - val_accuracy: 0.8270\n",
            "Epoch 19/20\n",
            "750/750 [==============================] - 2s 3ms/step - loss: 0.7746 - accuracy: 0.8362 - val_loss: 0.7855 - val_accuracy: 0.8293\n",
            "Epoch 20/20\n",
            "750/750 [==============================] - 2s 3ms/step - loss: 0.7695 - accuracy: 0.8376 - val_loss: 0.7814 - val_accuracy: 0.8295\n",
            "313/313 [==============================] - 1s 2ms/step - loss: 0.7993 - accuracy: 0.8221\n",
            "Adagrad Test accuracy: 0.8220999836921692\n"
          ]
        }
      ]
    },
    {
      "cell_type": "code",
      "source": [
        "from keras.optimizers import RMSprop\n",
        "#RMSprop\n",
        "model_rmsprop = Sequential()\n",
        "model_rmsprop.add(Dense(128, activation='relu', input_shape=(28 * 28,), kernel_regularizer=l2(0.001)))\n",
        "model_rmsprop.add(Dense(64, activation='relu', kernel_regularizer=l2(0.001)))\n",
        "model_rmsprop.add(Dense(num_classes, activation='softmax'))\n",
        "\n",
        "model_rmsprop.compile(optimizer=RMSprop(), loss='categorical_crossentropy', metrics=['accuracy'])\n",
        "history_rmsprop = model_rmsprop.fit(train_images, train_labels, epochs=20, batch_size=64, validation_data=(val_images, val_labels))\n",
        "#train\n",
        "test_loss_rmsprop, test_acc_rmsprop = model_rmsprop.evaluate(test_images, test_labels)\n",
        "print(\"RMSprop Test accuracy:\", test_acc_rmsprop)"
      ],
      "metadata": {
        "colab": {
          "base_uri": "https://localhost:8080/"
        },
        "id": "jJF9VRSIpOjk",
        "outputId": "1c2529b1-845b-42ac-d575-e546e01b1bbe"
      },
      "execution_count": null,
      "outputs": [
        {
          "output_type": "stream",
          "name": "stdout",
          "text": [
            "Epoch 1/20\n",
            "750/750 [==============================] - 3s 3ms/step - loss: 0.7665 - accuracy: 0.7994 - val_loss: 0.6067 - val_accuracy: 0.8361\n",
            "Epoch 2/20\n",
            "750/750 [==============================] - 2s 3ms/step - loss: 0.5667 - accuracy: 0.8444 - val_loss: 0.5126 - val_accuracy: 0.8614\n",
            "Epoch 3/20\n",
            "750/750 [==============================] - 2s 3ms/step - loss: 0.5109 - accuracy: 0.8555 - val_loss: 0.5180 - val_accuracy: 0.8522\n",
            "Epoch 4/20\n",
            "750/750 [==============================] - 2s 3ms/step - loss: 0.4788 - accuracy: 0.8602 - val_loss: 0.4652 - val_accuracy: 0.8668\n",
            "Epoch 5/20\n",
            "750/750 [==============================] - 3s 4ms/step - loss: 0.4606 - accuracy: 0.8651 - val_loss: 0.4843 - val_accuracy: 0.8522\n",
            "Epoch 6/20\n",
            "750/750 [==============================] - 2s 3ms/step - loss: 0.4449 - accuracy: 0.8700 - val_loss: 0.4729 - val_accuracy: 0.8599\n",
            "Epoch 7/20\n",
            "750/750 [==============================] - 2s 3ms/step - loss: 0.4343 - accuracy: 0.8716 - val_loss: 0.4708 - val_accuracy: 0.8560\n",
            "Epoch 8/20\n",
            "750/750 [==============================] - 2s 3ms/step - loss: 0.4269 - accuracy: 0.8717 - val_loss: 0.4637 - val_accuracy: 0.8600\n",
            "Epoch 9/20\n",
            "750/750 [==============================] - 2s 3ms/step - loss: 0.4188 - accuracy: 0.8732 - val_loss: 0.4280 - val_accuracy: 0.8716\n",
            "Epoch 10/20\n",
            "750/750 [==============================] - 3s 3ms/step - loss: 0.4142 - accuracy: 0.8761 - val_loss: 0.4541 - val_accuracy: 0.8637\n",
            "Epoch 11/20\n",
            "750/750 [==============================] - 2s 3ms/step - loss: 0.4070 - accuracy: 0.8781 - val_loss: 0.4002 - val_accuracy: 0.8813\n",
            "Epoch 12/20\n",
            "750/750 [==============================] - 2s 3ms/step - loss: 0.4011 - accuracy: 0.8788 - val_loss: 0.4689 - val_accuracy: 0.8530\n",
            "Epoch 13/20\n",
            "750/750 [==============================] - 2s 3ms/step - loss: 0.3987 - accuracy: 0.8804 - val_loss: 0.4549 - val_accuracy: 0.8639\n",
            "Epoch 14/20\n",
            "750/750 [==============================] - 2s 3ms/step - loss: 0.3948 - accuracy: 0.8814 - val_loss: 0.4180 - val_accuracy: 0.8735\n",
            "Epoch 15/20\n",
            "750/750 [==============================] - 3s 4ms/step - loss: 0.3908 - accuracy: 0.8827 - val_loss: 0.4251 - val_accuracy: 0.8730\n",
            "Epoch 16/20\n",
            "750/750 [==============================] - 2s 3ms/step - loss: 0.3884 - accuracy: 0.8829 - val_loss: 0.4071 - val_accuracy: 0.8767\n",
            "Epoch 17/20\n",
            "750/750 [==============================] - 2s 3ms/step - loss: 0.3843 - accuracy: 0.8831 - val_loss: 0.4251 - val_accuracy: 0.8712\n",
            "Epoch 18/20\n",
            "750/750 [==============================] - 2s 3ms/step - loss: 0.3826 - accuracy: 0.8839 - val_loss: 0.4147 - val_accuracy: 0.8752\n",
            "Epoch 19/20\n",
            "750/750 [==============================] - 2s 3ms/step - loss: 0.3822 - accuracy: 0.8846 - val_loss: 0.4308 - val_accuracy: 0.8692\n",
            "Epoch 20/20\n",
            "750/750 [==============================] - 2s 3ms/step - loss: 0.3784 - accuracy: 0.8861 - val_loss: 0.4089 - val_accuracy: 0.8725\n",
            "313/313 [==============================] - 0s 1ms/step - loss: 0.4335 - accuracy: 0.8669\n",
            "RMSprop Test accuracy: 0.8669000267982483\n"
          ]
        }
      ]
    }
  ]
}